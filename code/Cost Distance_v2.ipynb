{
 "metadata": {
  "name": "",
  "signature": "sha256:c6be0e38049b115ccd055bbef921ea37ce55f857d3643746814626df5b315d3f"
 },
 "nbformat": 3,
 "nbformat_minor": 0,
 "worksheets": [
  {
   "cells": [
    {
     "cell_type": "code",
     "collapsed": false,
     "input": [
      "import osgeo\n",
      "from osgeo.gdalnumeric import *\n",
      "from osgeo.gdalconst import *\n",
      "from osgeo import gdal, osr, ogr\n",
      "from skimage.graph import route_through_array, MCP, MCP_Geometric\n",
      "import numpy as np\n",
      "\n",
      "driverTiff = gdal.GetDriverByName('GTiff')"
     ],
     "language": "python",
     "metadata": {},
     "outputs": [],
     "prompt_number": 22
    },
    {
     "cell_type": "heading",
     "level": 3,
     "metadata": {},
     "source": [
      "functions"
     ]
    },
    {
     "cell_type": "code",
     "collapsed": false,
     "input": [
      "def normalizeCostSurface(costSurface):\n",
      "    costRaster = gdal.Open(costSurface)\n",
      "    geotransform = costRaster.GetGeoTransform()\n",
      "    originX = geotransform[0]\n",
      "    originY = geotransform[3]\n",
      "    pixelWidth = geotransform[1]\n",
      "    pixelHeight = geotransform[5]\n",
      "    band = costRaster.GetRasterBand(1)\n",
      "    dataIn = band.ReadAsArray()\n",
      "    dataIn = dataIn.astype(float32) # need to check this operation for rasters w NaN values\n",
      "    rastMin,rastMax = amin(dataIn),amax(dataIn)\n",
      "    print '     minimum cost: '+str(rastMin)+', ' +'maximum cost: '+str(rastMax)\n",
      "    dataNormArray = (dataIn-rastMin)/(rastMax-rastMin)\n",
      "\n",
      "    costSurfaceNormStr = costSurface.replace('.tif','_norm.tif')\n",
      "    dsNormOut = driverTiff.Create(costSurfaceNormStr,costRaster.RasterXSize,costRaster.RasterYSize,1,gdal.GDT_Float32)\n",
      "    dsNormOut.SetGeoTransform((originX,pixelWidth,0,originY,0,pixelHeight))\n",
      "    bandNormOut = dsNormOut.GetRasterBand(1)\n",
      "    bandNormOut.WriteArray(dataNormArray)\n",
      "    outRasterSRS = osr.SpatialReference()\n",
      "    outRasterSRS.ImportFromWkt(costRaster.GetProjectionRef())  \n",
      "    dsNormOut.SetProjection(outRasterSRS.ExportToWkt())\n",
      "    bandNormOut.FlushCache()\n",
      "    return costSurfaceNormStr, dsNormOut, dataNormArray\n",
      "    \n",
      "def raster2array(rasterfn):\n",
      "    raster = gdal.Open(rasterfn)\n",
      "    band = raster.GetRasterBand(1)\n",
      "    array = band.ReadAsArray()\n",
      "    return array\n",
      "\n",
      "def coord2pixelOffset(rasterfn,x,y):\n",
      "    raster = gdal.Open(rasterfn)\n",
      "    geotransform = raster.GetGeoTransform()\n",
      "    originX = geotransform[0]\n",
      "    originY = geotransform[3]\n",
      "    pixelWidth = geotransform[1]\n",
      "    pixelHeight = geotransform[5]\n",
      "    xOffset = int((x - originX)/pixelWidth)\n",
      "    yOffset = int((y - originY)/pixelHeight)\n",
      "    return xOffset,yOffset\n",
      "\n",
      "def createPath(CostSurfacefn,costSurfaceArray,startCoord,stopCoord):\n",
      "\n",
      "    # coordinates to array index\n",
      "    startCoordX = startCoord[0]\n",
      "    startCoordY = startCoord[1]\n",
      "    startIndexX,startIndexY = coord2pixelOffset(CostSurfacefn,startCoordX,startCoordY)\n",
      "\n",
      "    stopCoordX = stopCoord[0]\n",
      "    stopCoordY = stopCoord[1]\n",
      "    stopIndexX,stopIndexY = coord2pixelOffset(CostSurfacefn,stopCoordX,stopCoordY)\n",
      "\n",
      "    # geometric=True option in route_through_array call means that distance-weighted cumulative cost\n",
      "    # is calculated\n",
      "    indices, cost = route_through_array(costSurfaceArray, (startIndexY,startIndexX), (stopIndexY,stopIndexX),geometric=True,fully_connected=True)\n",
      "    indices = np.array(indices).T\n",
      "    path = np.zeros_like(costSurfaceArray)\n",
      "    path[indices[0], indices[1]] = 1\n",
      "    return path, cost\n",
      "\n",
      "def array2raster(newRasterfn,rasterfn,array):\n",
      "    raster = gdal.Open(rasterfn)\n",
      "    geotransform = raster.GetGeoTransform()\n",
      "    originX = geotransform[0]\n",
      "    originY = geotransform[3]\n",
      "    pixelWidth = geotransform[1]\n",
      "    pixelHeight = geotransform[5]\n",
      "    cols = array.shape[1]\n",
      "    rows = array.shape[0]\n",
      "\n",
      "    outRaster = driverTiff.Create(newRasterfn, raster.RasterXSize,raster.RasterYSize, 1, gdal.GDT_Float32)\n",
      "    outRaster.SetGeoTransform((originX, pixelWidth, 0, originY, 0, pixelHeight))\n",
      "    outband = outRaster.GetRasterBand(1)\n",
      "    outband.WriteArray(array)\n",
      "    \n",
      "    outRasterSRS = osr.SpatialReference()\n",
      "    outRasterSRS.ImportFromWkt(raster.GetProjectionRef())\n",
      "    outRaster.SetProjection(outRasterSRS.ExportToWkt())\n",
      "    outband.FlushCache()\n",
      "    del outRaster\n",
      "    outRaster = None \n",
      "    \n",
      "def main(costSurfacefn,startCoord,stopCoord):\n",
      "    print 'reading '+costSurfacefn+' ...'\n",
      "    \n",
      "    # normalize cost surface raster\n",
      "    costSurfaceNormStr,costSurfaceNormTif,costSurfaceNormArray = normalizeCostSurface(costSurfacefn) \n",
      "    costSurfaceArray = raster2array(costSurfaceNormStr) # creates array from normalized cost surface raster\n",
      "    \n",
      "    # generate min cost path\n",
      "    pathArray, cost = createPath(costSurfaceNormStr,costSurfaceNormArray,startCoord,stopCoord) # creates path array\n",
      "    print '     cum cost from pt XXX to pt XXX: ' + str(cost)\n",
      "    costPathStr = costSurfaceNormStr.replace('_norm.tif','_norm_costPath.tif')\n",
      "    array2raster(costPathStr,costSurfacefn,pathArray) # converts path array to raster\n",
      "\n",
      "    # generate min cost tif\n",
      "    startIndexX,startIndexY = coord2pixelOffset(costSurfaceNormStr,startCoord[0],startCoord[1]) # returns raster coords\n",
      "    bandMCP = MCP_Geometric(costSurfaceNormArray)\n",
      "    allCostDistArray,traceBackArray = bandMCP.find_costs([(startIndexY,startIndexX)]) # input is list of tuples of starting coords\n",
      "    costDistStr = costSurfaceNormStr.replace('_norm.tif','_norm_costDist.tif')    \n",
      "    array2raster(costDistStr,costSurfacefn,allCostDistArray)\n"
     ],
     "language": "python",
     "metadata": {},
     "outputs": [],
     "prompt_number": 23
    },
    {
     "cell_type": "heading",
     "level": 3,
     "metadata": {},
     "source": [
      "set-up input data"
     ]
    },
    {
     "cell_type": "code",
     "collapsed": false,
     "input": [
      "#data_dir = '/Users/brianrobinson/Documents/GISprojects/AOIs/sampledata/'\n",
      "data_dir = 'C:/Users/Jamon/Google Drive/projects_shared/Brian--village_AOI/code/sampledata/'\n",
      "cost_surface_raster = 'dem_filled_Clip2.tif'\n",
      "setmnt_shp = 'settlements_poly.shp'\n",
      "start_coord = (389674, 4566116) # N,E\n",
      "stop_coord =  (396683, 4561835) \n",
      "\n",
      "\n",
      "cost_surface_full = data_dir+cost_surface_raster"
     ],
     "language": "python",
     "metadata": {},
     "outputs": [],
     "prompt_number": 24
    },
    {
     "cell_type": "code",
     "collapsed": false,
     "input": [
      "if __name__ == \"__main__\":\n",
      "    main(cost_surface_full,start_coord,stop_coord)"
     ],
     "language": "python",
     "metadata": {},
     "outputs": [
      {
       "output_type": "stream",
       "stream": "stdout",
       "text": [
        "reading C:/Users/Jamon/Google Drive/projects_shared/Brian--village_AOI/code/sampledata/dem_filled_Clip2.tif ...\n",
        "     minimum cost: 1070.0, maximum cost: 2130.0"
       ]
      },
      {
       "output_type": "stream",
       "stream": "stdout",
       "text": [
        "\n",
        "     cum cost from pt XXX to pt XXX: 38.968579748"
       ]
      },
      {
       "output_type": "stream",
       "stream": "stdout",
       "text": [
        "\n"
       ]
      }
     ],
     "prompt_number": 25
    },
    {
     "cell_type": "heading",
     "level": 3,
     "metadata": {},
     "source": [
      "multi-village search"
     ]
    },
    {
     "cell_type": "code",
     "collapsed": false,
     "input": [
      "sf = r\"/Users/brianrobinson/Documents/GISprojects/AOIs/sampledata/settlements_poly.shp\"\n",
      "\n",
      "driverShp = ogr.GetDriverByName('ESRI Shapefile')\n",
      "dataSource = driverShp.Open(sf, 0) # 0 means read-only. 1 means writeable.\n",
      "\n",
      "# Check to see if shapefile is found, return number of features.\n",
      "if dataSource is None:\n",
      "    print 'Could not open %s' % (sf)\n",
      "else:\n",
      "    print 'Opened %s' % (sf)\n",
      "    layer = dataSource.GetLayer()\n",
      "    featureCount = layer.GetFeatureCount()\n",
      "    print \"Number of features: %d\" % (featureCount)\n",
      "\n",
      "#if setmnt_shp is a poly, \n",
      "#    a) get area of each village\n",
      "#    b) find centroid"
     ],
     "language": "python",
     "metadata": {},
     "outputs": []
    },
    {
     "cell_type": "code",
     "collapsed": false,
     "input": [
      "\n",
      "# from either points or poly data, use centroid output in following steps\n",
      "for i in range(1,len(sf)):\n",
      "    start_coord = centroid_coord\n",
      "    if __name__ == \"__main__\":\n",
      "        main(cost_surface_full,start_coord,stop_coord)\n",
      "        \n"
     ],
     "language": "python",
     "metadata": {},
     "outputs": [
      {
       "ename": "NameError",
       "evalue": "name 'sf' is not defined",
       "output_type": "pyerr",
       "traceback": [
        "\u001b[1;31m---------------------------------------------------------------------------\u001b[0m\n\u001b[1;31mNameError\u001b[0m                                 Traceback (most recent call last)",
        "\u001b[1;32m<ipython-input-5-fb00d4fc16e2>\u001b[0m in \u001b[0;36m<module>\u001b[1;34m()\u001b[0m\n\u001b[0;32m      1\u001b[0m \u001b[1;33m\u001b[0m\u001b[0m\n\u001b[0;32m      2\u001b[0m \u001b[1;31m# from either points or poly data, use centroid output in following steps\u001b[0m\u001b[1;33m\u001b[0m\u001b[1;33m\u001b[0m\u001b[0m\n\u001b[1;32m----> 3\u001b[1;33m \u001b[1;32mfor\u001b[0m \u001b[0mi\u001b[0m \u001b[1;32min\u001b[0m \u001b[0mrange\u001b[0m\u001b[1;33m(\u001b[0m\u001b[1;36m1\u001b[0m\u001b[1;33m,\u001b[0m\u001b[0mlen\u001b[0m\u001b[1;33m(\u001b[0m\u001b[0msf\u001b[0m\u001b[1;33m)\u001b[0m\u001b[1;33m)\u001b[0m\u001b[1;33m:\u001b[0m\u001b[1;33m\u001b[0m\u001b[0m\n\u001b[0m\u001b[0;32m      4\u001b[0m     \u001b[0mstart_coord\u001b[0m \u001b[1;33m=\u001b[0m \u001b[0mcentroid_coord\u001b[0m\u001b[1;33m\u001b[0m\u001b[0m\n\u001b[0;32m      5\u001b[0m     \u001b[1;32mif\u001b[0m \u001b[0m__name__\u001b[0m \u001b[1;33m==\u001b[0m \u001b[1;34m\"__main__\"\u001b[0m\u001b[1;33m:\u001b[0m\u001b[1;33m\u001b[0m\u001b[0m\n",
        "\u001b[1;31mNameError\u001b[0m: name 'sf' is not defined"
       ]
      }
     ],
     "prompt_number": 5
    }
   ],
   "metadata": {}
  }
 ]
}