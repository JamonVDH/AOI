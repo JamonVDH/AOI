{
 "metadata": {
  "name": "AOI_cost_distance",
  "signature": "sha256:c6be0e38049b115ccd055bbef921ea37ce55f857d3643746814626df5b315d3f"
 },
 "nbformat": 3,
 "nbformat_minor": 0,
 "worksheets": [
  {
   "cells": [
    {
     "cell_type": "raw",
     "metadata": {},
     "source": [
      "TO-DO\n",
      "- comment all functionality\n",
      "- robustly compare between pt and tif srs; align srs if necessary\n",
      "- automatically download ASTER data for DEM processing -- JAMON\n",
      "- ridgeline extraction from DEM -- JAMON\n",
      "- make sure all outputs have srs\n",
      "- start benchmarking sections of code to compare computational time\n",
      "- functionality to import land cover map, and process into cost surface input -- JAMON\n",
      "- functionality to weight slope, ridgelines, and land cover in calculating cost surface\n",
      "\n",
      "\n",
      "JOURNALS\n",
      "Environmental Modelling and Software: http://www.journals.elsevier.com/environmental-modelling-and-software/\n",
      "IJGIS: http://www.tandfonline.com/toc/tgis20/current#.U86HS_ldUrU\n"
     ]
    },
    {
     "cell_type": "code",
     "collapsed": false,
     "input": [
      "# https://pcjericks.github.io/py-gdalogr-cookbook/raster_layers.html#create-least-cost-path\n",
      "import os, osgeo, Image, time\n",
      "from osgeo.gdalnumeric import *\n",
      "from osgeo.gdalconst import *\n",
      "from osgeo import gdal, osr, ogr\n",
      "from skimage.graph import route_through_array, MCP, MCP_Geometric\n",
      "import numpy as np\n",
      "from scipy import signal\n",
      "from scipy.spatial.distance import cdist"
     ],
     "language": "python",
     "metadata": {},
     "outputs": [],
     "prompt_number": 1
    },
    {
     "cell_type": "code",
     "collapsed": false,
     "input": [
      "#data_dir = '/Users/brianrobinson/Documents/GISprojects/AOIs/sampledata/'\n",
      "root_dir = 'C:/Git-projects/AOI/'\n",
      "data_dir = root_dir+'sample_data/'\n",
      "cost_alloc_dir = data_dir+'out-cost_alloc/'\n",
      "paths_dir = data_dir+'out-paths/'\n",
      "voronoi_dir = data_dir+'out-voronoi/'\n",
      "overlays_dir = data_dir+'out-polygon_overlays/'\n",
      "\n",
      "dem_full = data_dir+'dem_filled_Clip2.tif'\n",
      "cost_surface_full = data_dir+'dem_filled_Clip2.tif'\n",
      "settlement_shp = data_dir+'settlement_pnts_clip_UTM.shp'\n",
      "start_coord = (389674, 4566116) # N,E\n",
      "stop_coord =  (396683, 4561835) \n",
      "\n",
      "driverTiff = gdal.GetDriverByName('GTiff')\n",
      "driverShp = ogr.GetDriverByName('ESRI Shapefile')"
     ],
     "language": "python",
     "metadata": {},
     "outputs": [],
     "prompt_number": 2
    },
    {
     "cell_type": "heading",
     "level": 3,
     "metadata": {},
     "source": [
      "functions"
     ]
    },
    {
     "cell_type": "code",
     "collapsed": false,
     "input": [
      "def raster2array(rasterfn):\n",
      "    raster = gdal.Open(rasterfn)\n",
      "    band = raster.GetRasterBand(1)\n",
      "    array = band.ReadAsArray()\n",
      "    return array\n",
      "\n",
      "def array2raster(newRasterfn,rasterfn,array,dataType): #rasterfn is reference raster dir path\n",
      "    raster = gdal.Open(rasterfn)\n",
      "    geotransform = raster.GetGeoTransform()\n",
      "    originX = geotransform[0]\n",
      "    originY = geotransform[3]\n",
      "    pixelWidth = geotransform[1]\n",
      "    pixelHeight = geotransform[5]\n",
      "    cols = array.shape[1]\n",
      "    rows = array.shape[0]\n",
      "    \n",
      "    # data types: http://www.gdal.org/gdal_8h.html#a22e22ce0a55036a96f652765793fb7a4\n",
      "    if dataType == 'float32': outRaster = driverTiff.Create(newRasterfn, raster.RasterXSize,raster.RasterYSize, 1, gdal.GDT_Float32)\n",
      "    elif dataType == 'int16': outRaster = driverTiff.Create(newRasterfn, raster.RasterXSize,raster.RasterYSize, 1, gdal.GDT_UInt16)\n",
      "    elif dataType == 'byte': outRaster = driverTiff.Create(newRasterfn, raster.RasterXSize,raster.RasterYSize, 1, gdal.GDT_Byte)    \n",
      "    \n",
      "    else: return 'unknown data type'\n",
      "    outRaster.SetGeoTransform((originX, pixelWidth, 0, originY, 0, pixelHeight))\n",
      "    outband = outRaster.GetRasterBand(1)\n",
      "    outband.WriteArray(array)\n",
      "    \n",
      "    outRasterSRS = osr.SpatialReference()\n",
      "    outRasterSRS.ImportFromWkt(raster.GetProjectionRef())\n",
      "    outRaster.SetProjection(outRasterSRS.ExportToWkt())\n",
      "    outband.FlushCache()\n",
      "    del outRaster\n",
      "    outRaster = None \n",
      "    \n",
      "def coord2pixelOffset(rasterfn,x,y):\n",
      "    raster = gdal.Open(rasterfn)\n",
      "    geotransform = raster.GetGeoTransform()\n",
      "    originX = geotransform[0]\n",
      "    originY = geotransform[3]\n",
      "    pixelWidth = geotransform[1]\n",
      "    pixelHeight = geotransform[5]\n",
      "    xOffset = int((x - originX)/pixelWidth)\n",
      "    yOffset = int((y - originY)/pixelHeight)\n",
      "    return xOffset,yOffset\n",
      "\n",
      "def dem2slope(DEMfn):\n",
      "    # http://www.geophysique.be/2014/02/25/shaded-relief-map-in-python/\n",
      "    DEMarray = raster2array(DEMfn)\n",
      "    x, y = np.gradient(DEMarray)\n",
      "    slope = np.pi/2. - np.arctan(np.sqrt(x*x + y*y))\n",
      "    return slope\n",
      "\n",
      "def normalizeCostSurface(costSurface):\n",
      "    print 'input cost surface: '+costSurface\n",
      "    costRaster = gdal.Open(costSurface)\n",
      "    geotransform = costRaster.GetGeoTransform()\n",
      "    originX = geotransform[0]\n",
      "    originY = geotransform[3]\n",
      "    pixelWidth = geotransform[1]\n",
      "    pixelHeight = geotransform[5]\n",
      "    band = costRaster.GetRasterBand(1)\n",
      "    dataIn = band.ReadAsArray()\n",
      "    dataIn = dataIn.astype(float32) # need to check this operation for rasters w NaN values\n",
      "    print '\\nnormalizing cost surface...'\n",
      "    rastMin,rastMax = amin(dataIn),amax(dataIn)\n",
      "    print '     minimum cost: '+str(rastMin)+', ' +'maximum cost: '+str(rastMax)\n",
      "    dataNormArray = (dataIn-rastMin)/(rastMax-rastMin)\n",
      "\n",
      "    costSurfaceNormStr = costSurface.replace('.tif','_norm.tif')\n",
      "    dsNormOut = driverTiff.Create(costSurfaceNormStr,costRaster.RasterXSize,costRaster.RasterYSize,1,gdal.GDT_Float32)\n",
      "    dsNormOut.SetGeoTransform((originX,pixelWidth,0,originY,0,pixelHeight))\n",
      "    bandNormOut = dsNormOut.GetRasterBand(1)\n",
      "    bandNormOut.WriteArray(dataNormArray)\n",
      "    outRasterSRS = osr.SpatialReference()\n",
      "    outRasterSRS.ImportFromWkt(costRaster.GetProjectionRef())  \n",
      "    dsNormOut.SetProjection(outRasterSRS.ExportToWkt())\n",
      "    bandNormOut.FlushCache()\n",
      "    return costSurfaceNormStr, dsNormOut, dataNormArray\n",
      "\n",
      "def createPath(CostSurfacefn,costSurfaceArray,startCoord,stopCoord):\n",
      "    # coordinates to array index\n",
      "    startCoordX = startCoord[0]\n",
      "    startCoordY = startCoord[1]\n",
      "    startIndexX,startIndexY = coord2pixelOffset(CostSurfacefn,startCoordX,startCoordY)\n",
      "\n",
      "    stopCoordX = stopCoord[0]\n",
      "    stopCoordY = stopCoord[1]\n",
      "    stopIndexX,stopIndexY = coord2pixelOffset(CostSurfacefn,stopCoordX,stopCoordY)\n",
      "\n",
      "    # http://scikit-image.org/docs/dev/api/skimage.graph.html#route-through-array\n",
      "    # geometric=True option in route_through_array call means that distance-weighted cumulative cost\n",
      "    # is calculated\n",
      "    indices, cost = route_through_array(costSurfaceArray, (startIndexY,startIndexX), (stopIndexY,stopIndexX),geometric=True,fully_connected=True)\n",
      "    indices = np.array(indices).T\n",
      "    path = np.zeros_like(costSurfaceArray)\n",
      "    path[indices[0], indices[1]] = 256\n",
      "    return path, cost\n",
      "\n",
      "def minCostRoute(costSurfaceNormStr,costSurfaceNormArray,startCoord,sampleNum):   \n",
      "    print '\\ncreating minimum cost route jpgs...'\n",
      "    startCoordX = startCoord[0]\n",
      "    startCoordY = startCoord[1]\n",
      "    startIndexX,startIndexY = coord2pixelOffset(costSurfaceNormStr,startCoordX,startCoordY)\n",
      "    \n",
      "    rows = len(costSurfaceNormArray)\n",
      "    cols = len(costSurfaceNormArray[0])\n",
      "    \n",
      "    i = 0 # row counter\n",
      "    while i < rows:\n",
      "        j = 0 # column counter\n",
      "        while j < cols:\n",
      "            stopIndexX,stopIndexY = j,i\n",
      "            indices, cost = route_through_array(costSurfaceNormArray, (startIndexY,startIndexX), (stopIndexY,stopIndexX),geometric=True,fully_connected=True)\n",
      "            indices = np.array(indices).T\n",
      "            path = np.zeros_like(costSurfaceNormArray)\n",
      "            # path from starting point to all locations in raster\n",
      "            path[indices[0], indices[1]] = 256 #white\n",
      "    \n",
      "            rowStr = str(i)\n",
      "            if i == 0:\n",
      "                rowStr = '00'+rowStr\n",
      "            elif i < 100:\n",
      "                rowStr = '0'+rowStr\n",
      "            \n",
      "            colStr = str(j)\n",
      "            if j == 0:\n",
      "                colStr = '00'+colStr\n",
      "            elif j < 100:\n",
      "                colStr = '0'+colStr\n",
      "                \n",
      "            #costPathStr = costSurfaceNormStr.replace('.tif',rowStr+'_'+colStr+'.tif') # row,col indexed\n",
      "            costPathStr = paths_dir+rowStr+'_'+colStr+'.tif'\n",
      "            array2raster(costPathStr,costSurfaceNormStr,path,'byte') # converts path array to raster\n",
      "            \n",
      "            # convert to png for processing into animated gif using...\n",
      "            # - http://spectraldifferences.wordpress.com/2014/04/21/create-an-animated-gif-from-a-series-of-images/\n",
      "            # - http://www.imagemagick.org/\n",
      "            Image.open(costPathStr).save(costPathStr.replace('.tif','.png'),'PNG')\n",
      "            os.remove(costPathStr)\n",
      "            j+=sampleNum # only reference every nth pixel\n",
      "        i+=sampleNum\n",
      "\n",
      "    # spawn cmd and run command\n",
      "    # convert -delay 100 *.png path_animation.gif\n",
      "\n",
      "def findCostsBounded(costsurfarray,cent2box,centering_coord):\n",
      "    # pull out a subset of a raster (a bounding box) for faster manipulation\n",
      "    # inputs: \n",
      "    #   a) costsurfarray is nparray, a cost surface for our purposes\n",
      "    #   b) cent2box is an integer defininig the number of PIXELS to extend from the settlement center\n",
      "    #       --> (1/2 the length of the bounding square)\n",
      "    #   c) centering_coord is a tuple that is the (x,y) coordinate values of the settlement\n",
      "    \n",
      "    startIndexX = centering_coord[0]\n",
      "    startIndexY = centering_coord[1]\n",
      "    # define the boundaries of the bounding box\n",
      "    bboffset = cent2box  \n",
      "    Top = startIndexY+bboffset\n",
      "    Bot = startIndexY-bboffset\n",
      "    Rght = startIndexX+bboffset\n",
      "    Left = startIndexX-bboffset\n",
      "\n",
      "    # adjust for edges & define the settlement coords as [bboxX, bboxY]\n",
      "    if Top > costsurfarray.shape[0]: Top = costsurfarray.shape[0]\n",
      "    if Bot < 0: \n",
      "        Bot = 0\n",
      "        bboxY = startIndexY\n",
      "    else: bboxY = bboffset\n",
      "\n",
      "    if Rght > costsurfarray.shape[1]: Rght = costsurfarray.shape[1]\n",
      "    if Left < 0: \n",
      "        Left = 0\n",
      "        bboxX = startIndexX\n",
      "    else: bboxX = bboffset\n",
      "\n",
      "    # find the geometric min cost path for the bounding box\n",
      "    bbBand = MCP_Geometric(costsurfarray[Bot:Top,Left:Rght])\n",
      "\n",
      "    #find the cost surface within the bounding box centered on the settlement coords\n",
      "    bbCDArrayTemp = bbBand.find_costs([(bboxY,bboxX)])[0] # input is list of tuples of starting coords\n",
      "\n",
      "    #put the bb subset back into original array index, all other areas get arbitrarily high value\n",
      "    bbCDArray = 9999*np.ones((costsurfarray.shape[0],costsurfarray.shape[1]))\n",
      "    bbCDArray[Bot:Top,Left:Rght] = bbCDArrayTemp\n",
      "    return bbCDArray\n",
      "    bbBand.Destroy()\n",
      "    bbCDArrayTemp.Destroy()\n",
      "\n",
      "def bboxOffset(landscapeRaster):\n",
      "    # help from here: http://invisibleroads.com/tutorials/gdal-shapefile-points-load.html\n",
      "    # and here: http://stackoverflow.com/questions/21661802/finding-the-distance-between-a-set-of-points-using-scipy-spatial-distance-cdist\n",
      "    driverShp = ogr.GetDriverByName('ESRI Shapefile')\n",
      "    dataSource = driverShp.Open(settlement_shp, 0) # 0 means read-only. 1 means writeable.\n",
      "    layer = dataSource.GetLayer()\n",
      "    \n",
      "    # find the coordinates of all points in the layer\n",
      "    points = []\n",
      "    for index in xrange(layer.GetFeatureCount()):\n",
      "        feature = layer.GetFeature(index)\n",
      "        geometry = feature.GetGeometryRef()\n",
      "        points.append((geometry.GetX(), geometry.GetY()))\n",
      "\n",
      "    print '     read ' + str(len(points)) + ' points from '+settlement_shp.split('/')[-1]\n",
      "\n",
      "    # calculate the distance between all points in the layer\n",
      "    d = cdist(points,points)\n",
      "    #take 2nd row (first row is all 0 - dist to self) of the sorted the distance matrix, and select the %ile dist to nearest neighbor\n",
      "    bboxDist = np.amax(np.sort(d,axis=0)[2,:]) \n",
      "        # Perhaps should calc within the convex hull of all the points\n",
      "        # even at 1/2 the median value this is a little large\n",
      "\n",
      "    # transform coords unit length to number of pixels (assuming pixels unit X = pixel unit Y)\n",
      "    lsRaster = gdal.Open(landscapeRaster)\n",
      "    geotransform = lsRaster.GetGeoTransform()\n",
      "    band = lsRaster.GetRasterBand(1)\n",
      "    lsArray = band.ReadAsArray()    \n",
      "    pixelWidth = geotransform[1]\n",
      "    bboxPixelOffset = int(bboxDist/pixelWidth)\n",
      "    print '     bounding box extends %s pixels in each direction from each settlement point' % (bboxPixelOffset)\n",
      "    print '          ...the landscape is '+str(lsArray.shape)+' pixels (height x width)'\n",
      "    return bboxPixelOffset\n",
      "    bboxDist.Destroy()\n",
      "    bboxPixelOffset.Destroy()\n",
      "    datasource.Destroy()\n",
      "    layer.Destroy()\n",
      "\n",
      "def costSurfaceDist(costSurfaceNormStr,costSurfaceNormTif,costSurfaceNormArray):\n",
      "    print '\\nreading in settlement and cost surface data...'     \n",
      "    # Load shapefile\n",
      "    dataSource = driverShp.Open(settlement_shp, 0) # 0 means read-only. 1 means writeable.\n",
      "    \n",
      "    #check that the cost surface and the feature (settlement) layer have the same projection\n",
      "    layer = dataSource.GetLayer()\n",
      "    srs = layer.GetSpatialRef()\n",
      "    CSraster = gdal.Open(costSurfaceNormStr)\n",
      "    CSsrs = osr.SpatialReference()\n",
      "    CSsrs.ImportFromWkt(CSraster.GetProjectionRef())  \n",
      "    if srs != CSsrs:\n",
      "        print \"     *** pt and raster projections may differ ***\"\n",
      "        \n",
      "    # If a polygon file, get centroids (and areas as potential weights)\n",
      "\n",
      "    # Finding the shapefile type\n",
      "    ind = 0    \n",
      "    while (ind < 1):\n",
      "        feature = layer.GetFeature(ind)\n",
      "        shapegeom = feature.GetGeometryRef() \n",
      "        shapeType = shapegeom.ExportToWkt().split(' ')[0]\n",
      "        ind += 1\n",
      "        \n",
      "    if shapeType == \"POLYGON\": #| shapeType == \"MULTIPOLYGON\":\n",
      "        print '     Polygon shapefiles not yet supported, coming soon!'\n",
      "    \n",
      "        # Create an array with centroids\n",
      "        # for feature in layer:\n",
      "        print geomshape.GetCoordinateDimension()\n",
      "        FeatCent = shapegeom.Centroid()  # maybe 'Centroid().ExportToWkt()'?\n",
      "        FeatArea = shapegeom.GetArea()   # this works\n",
      "        print '     '+str(shapegeom.ExportToWkt())\n",
      "        print '     centroid: '+str(FeatCent)+', '+' area: '+str(FeatArea)\n",
      "        #return pointfile\n",
      "    elif shapeType == \"POINT\":\n",
      "        print \"     reading \"+settlement_shp+ \" as point file\" \n",
      "    else: print \"***The feature layer doesn't look like a shapefile. Quitting.***\"\n",
      "    \n",
      "    t0 = time.time()\n",
      "    settlements = layer.GetFeatureCount() # number of iterations (settlements) to loop over. \n",
      "                       # for all settlements, enter 'layer.GetFeatureCount()' (w/o quotes)\n",
      "    \n",
      "    # Initialize the ultimate overlapping array of cost distance surfaces\n",
      "    win = np.zeros((costSurfaceNormArray.shape[0],costSurfaceNormArray.shape[1]))\n",
      "    \n",
      "    # Find the size of the bounding box offset (in pixels) to reduce the size of cost distance surfaces to calculate\n",
      "    bboxPx = bboxOffset(costSurfaceNormStr) #'bboxOffset' calcs the max # of pixels from any point's nearest neighbor\n",
      "    \n",
      "    print '    \\ncalculating settlement-level cost surfaces...'\n",
      "    k = 0\n",
      "    for feature in layer:\n",
      "        t1 = time.time()\n",
      "    \n",
      "        #feat = layer.GetFeature()\n",
      "        geom = feature.GetGeometryRef() \n",
      "        start_coord = geom.GetPoint()[0:2]\n",
      "   \n",
      "        # Generate CostDistArray for this settlement\n",
      "        # Using the findCostsBounded function, calc the CostDistArray for a moving window around each settlement\n",
      "        startIndexX,startIndexY = coord2pixelOffset(costSurfaceNormStr,start_coord[0],start_coord[1]) # returns raster coords\n",
      "        CostDistArray = findCostsBounded(costSurfaceNormArray,bboxPx,(startIndexX,startIndexY))\n",
      "        \n",
      "        print \"     settlement %s cost:\" % (k+1)\n",
      "        print \"       min: \"+str(amin(CostDistArray))+\", max: \"+str(amax(CostDistArray))\n",
      "    \n",
      "        # Update the CD array with values for this settlement \n",
      "        if k == 0: \n",
      "            win[numpy.isreal(CostDistArray)] = feature.GetField(\"ORIG_FID\")\n",
      "            CD = CostDistArray.copy()\n",
      "        else:\n",
      "            win[CostDistArray<CD] = feature.GetField(\"ORIG_FID\") \n",
      "            # compare old one with the next one and update it\n",
      "            CD = np.where(CostDistArray<CD,CostDistArray,CD)          \n",
      "        t4 = time.time()\n",
      "        #print \"     settlement %s: %5.1f secs\" % (k, (t4-t1))\n",
      "        #print \"      Memory usage: %5.1f MB\" % (resource.getrusage(resource.RUSAGE_SELF).ru_maxrss/1024/1024)\n",
      "        k += 1\n",
      "        \n",
      "    array2raster(cost_alloc_dir+'winners_full.tif',costSurfaceNormStr,win,'int16')\n",
      "    print '\\n>> outputted allocated cost surface to '+ cost_alloc_dir+' <<'\n",
      "    tottime = (time.time() - t0)\n",
      "    print \"\\ntotal time to find %s winners: %5.1f minutes\" % (k, tottime/60)\n",
      "    \n",
      "def main():    \n",
      "    \n",
      "    # calculate the slope from the DEM\n",
      "    slopeArray = dem2slope(dem_full)\n",
      "    \n",
      "    # generate cost surface based on land cover, slope, etc.\n",
      "    \n",
      "    \n",
      "    # normalize cost surface raster\n",
      "    costSurfaceNormStr,costSurfaceNormTif,costSurfaceNormArray = normalizeCostSurface(cost_surface_full) \n",
      "    costSurfaceArray = raster2array(costSurfaceNormStr) # creates array from normalized cost surface raster\n",
      "    \n",
      "    # generate example min cost paths from starting coordinate\n",
      "    #pathArray, cost = createPath(costSurfaceNormStr,costSurfaceNormArray,start_coord,stop_coord) # creates path array\n",
      "    #print '     cum cost from pt XXX to pt XXX: ' + str(cost)\n",
      "    #costPathStr = costSurfaceNormStr.replace('_norm.tif','_norm_costPath.tif')\n",
      "    #array2raster(costPathStr,costSurfacefn,pathArray,'byte') # converts path array to raster\n",
      "     \n",
      "    #minCostRoute(costSurfaceNormStr,costSurfaceNormArray,start_coord, 40)\n",
      "\n",
      "    # generate example min cost tif from starting coordinate\n",
      "    #startIndexX,startIndexY = coord2pixelOffset(costSurfaceNormStr,start_coord[0],start_coord[1]) # returns raster coords\n",
      "    #bandMCP = MCP_Geometric(costSurfaceNormArray)\n",
      "    #allCostDistArray,traceBackArray = bandMCP.find_costs([(startIndexY,startIndexX)]) # input is list of tuples of starting coords\n",
      "    #costDistStr = costSurfaceNormStr.replace('_norm.tif','_norm_costDist.tif')    \n",
      "    #array2raster(costDistStr,costSurfacefn,allCostDistArray,'float32')\n",
      "    \n",
      "    costSurfaceDist(costSurfaceNormStr,costSurfaceNormTif,costSurfaceNormArray)"
     ],
     "language": "python",
     "metadata": {},
     "outputs": [],
     "prompt_number": 13
    },
    {
     "cell_type": "heading",
     "level": 3,
     "metadata": {},
     "source": [
      "run main"
     ]
    },
    {
     "cell_type": "code",
     "collapsed": false,
     "input": [
      "if __name__ == \"__main__\":\n",
      "    main()"
     ],
     "language": "python",
     "metadata": {},
     "outputs": [
      {
       "output_type": "stream",
       "stream": "stdout",
       "text": [
        "input cost surface: C:/Git-projects/AOI/sample_data/dem_filled_Clip2.tif\n",
        "\n",
        "normalizing cost surface...\n",
        "     minimum cost: 1070.0, maximum cost: 2130.0\n",
        "\n",
        "reading in settlement and cost surface data...\n",
        "     *** pt and raster projections may differ ***\n",
        "     reading C:/Git-projects/AOI/sample_data/settlement_pnts_clip_UTM.shp as point file\n",
        "     read 40 points from settlement_pnts_clip_UTM.shp\n",
        "     bounding box extends 145 pixels in each direction from each settlement point\n",
        "          ...the landscape is (538L, 501L) pixels (height x width)\n",
        "    \n",
        "calculating settlement-level cost surfaces...\n",
        "     settlement 1 cost:"
       ]
      },
      {
       "output_type": "stream",
       "stream": "stdout",
       "text": [
        "\n",
        "       min: 0.0, max: 9999.0\n",
        "     settlement 2 cost:"
       ]
      },
      {
       "output_type": "stream",
       "stream": "stdout",
       "text": [
        "\n",
        "       min: 0.0, max: 9999.0\n",
        "     settlement 3 cost:"
       ]
      },
      {
       "output_type": "stream",
       "stream": "stdout",
       "text": [
        "\n",
        "       min: 0.0, max: 9999.0\n",
        "     settlement 4 cost:"
       ]
      },
      {
       "output_type": "stream",
       "stream": "stdout",
       "text": [
        "\n",
        "       min: 0.0, max: 9999.0\n",
        "     settlement 5 cost:"
       ]
      },
      {
       "output_type": "stream",
       "stream": "stdout",
       "text": [
        "\n",
        "       min: 0.0, max: 9999.0\n",
        "     settlement 6 cost:"
       ]
      },
      {
       "output_type": "stream",
       "stream": "stdout",
       "text": [
        "\n",
        "       min: 0.0, max: 9999.0\n",
        "     settlement 7 cost:"
       ]
      },
      {
       "output_type": "stream",
       "stream": "stdout",
       "text": [
        "\n",
        "       min: 0.0, max: 9999.0\n",
        "     settlement 8 cost:"
       ]
      },
      {
       "output_type": "stream",
       "stream": "stdout",
       "text": [
        "\n",
        "       min: 0.0, max: 9999.0\n",
        "     settlement 9 cost:"
       ]
      },
      {
       "output_type": "stream",
       "stream": "stdout",
       "text": [
        "\n",
        "       min: 0.0, max: 9999.0\n",
        "     settlement 10 cost:"
       ]
      },
      {
       "output_type": "stream",
       "stream": "stdout",
       "text": [
        "\n",
        "       min: 0.0, max: 9999.0\n",
        "     settlement 11 cost:"
       ]
      },
      {
       "output_type": "stream",
       "stream": "stdout",
       "text": [
        "\n",
        "       min: 0.0, max: 9999.0\n",
        "     settlement 12 cost:"
       ]
      },
      {
       "output_type": "stream",
       "stream": "stdout",
       "text": [
        "\n",
        "       min: 0.0, max: 9999.0\n",
        "     settlement 13 cost:\n",
        "       min: 0.0, max: 9999.0"
       ]
      },
      {
       "output_type": "stream",
       "stream": "stdout",
       "text": [
        "\n",
        "     settlement 14 cost:"
       ]
      },
      {
       "output_type": "stream",
       "stream": "stdout",
       "text": [
        "\n",
        "       min: 0.0, max: 9999.0\n",
        "     settlement 15 cost:\n",
        "       min: 0.0, max: 9999.0\n",
        "     settlement 16 cost:"
       ]
      },
      {
       "output_type": "stream",
       "stream": "stdout",
       "text": [
        "\n",
        "       min: 0.0, max: 9999.0\n",
        "     settlement 17 cost:\n",
        "       min: 0.0, max: 9999.0"
       ]
      },
      {
       "output_type": "stream",
       "stream": "stdout",
       "text": [
        "\n",
        "     settlement 18 cost:\n",
        "       min: 0.0, max: 9999.0\n",
        "     settlement 19 cost:"
       ]
      },
      {
       "output_type": "stream",
       "stream": "stdout",
       "text": [
        "\n",
        "       min: 0.0, max: 9999.0\n",
        "     settlement 20 cost:"
       ]
      },
      {
       "output_type": "stream",
       "stream": "stdout",
       "text": [
        "\n",
        "       min: 0.0, max: 9999.0\n",
        "     settlement 21 cost:"
       ]
      },
      {
       "output_type": "stream",
       "stream": "stdout",
       "text": [
        "\n",
        "       min: 0.0, max: 9999.0\n",
        "     settlement 22 cost:"
       ]
      },
      {
       "output_type": "stream",
       "stream": "stdout",
       "text": [
        "\n",
        "       min: 0.0, max: 9999.0\n",
        "     settlement 23 cost:"
       ]
      },
      {
       "output_type": "stream",
       "stream": "stdout",
       "text": [
        "\n",
        "       min: 0.0, max: 9999.0\n",
        "     settlement 24 cost:"
       ]
      },
      {
       "output_type": "stream",
       "stream": "stdout",
       "text": [
        "\n",
        "       min: 0.0, max: 9999.0\n",
        "     settlement 25 cost:"
       ]
      },
      {
       "output_type": "stream",
       "stream": "stdout",
       "text": [
        "\n",
        "       min: 0.0, max: 9999.0\n",
        "     settlement 26 cost:"
       ]
      },
      {
       "output_type": "stream",
       "stream": "stdout",
       "text": [
        "\n",
        "       min: 0.0, max: 9999.0\n",
        "     settlement 27 cost:"
       ]
      },
      {
       "output_type": "stream",
       "stream": "stdout",
       "text": [
        "\n",
        "       min: 0.0, max: 9999.0\n",
        "     settlement 28 cost:"
       ]
      },
      {
       "output_type": "stream",
       "stream": "stdout",
       "text": [
        "\n",
        "       min: 0.0, max: 9999.0\n",
        "     settlement 29 cost:"
       ]
      },
      {
       "output_type": "stream",
       "stream": "stdout",
       "text": [
        "\n",
        "       min: 0.0, max: 9999.0\n",
        "     settlement 30 cost:"
       ]
      },
      {
       "output_type": "stream",
       "stream": "stdout",
       "text": [
        "\n",
        "       min: 0.0, max: 9999.0\n",
        "     settlement 31 cost:"
       ]
      },
      {
       "output_type": "stream",
       "stream": "stdout",
       "text": [
        "\n",
        "       min: 0.0, max: 9999.0\n",
        "     settlement 32 cost:"
       ]
      },
      {
       "output_type": "stream",
       "stream": "stdout",
       "text": [
        "\n",
        "       min: 0.0, max: 9999.0\n",
        "     settlement 33 cost:"
       ]
      },
      {
       "output_type": "stream",
       "stream": "stdout",
       "text": [
        "\n",
        "       min: 0.0, max: 9999.0\n",
        "     settlement 34 cost:"
       ]
      },
      {
       "output_type": "stream",
       "stream": "stdout",
       "text": [
        "\n",
        "       min: 0.0, max: 9999.0\n",
        "     settlement 35 cost:"
       ]
      },
      {
       "output_type": "stream",
       "stream": "stdout",
       "text": [
        "\n",
        "       min: 0.0, max: 9999.0\n",
        "     settlement 36 cost:"
       ]
      },
      {
       "output_type": "stream",
       "stream": "stdout",
       "text": [
        "\n",
        "       min: 0.0, max: 9999.0\n",
        "     settlement 37 cost:"
       ]
      },
      {
       "output_type": "stream",
       "stream": "stdout",
       "text": [
        "\n",
        "       min: 0.0, max: 9999.0\n",
        "     settlement 38 cost:\n",
        "       min: 0.0, max: 9999.0\n",
        "     settlement 39 cost:"
       ]
      },
      {
       "output_type": "stream",
       "stream": "stdout",
       "text": [
        "\n",
        "       min: 0.0, max: 9999.0\n",
        "     settlement 40 cost:"
       ]
      },
      {
       "output_type": "stream",
       "stream": "stdout",
       "text": [
        "\n",
        "       min: 0.0, max: 9999.0\n",
        "\n",
        ">> outputted allocated cost surface to C:/Git-projects/AOI/sample_data/out-cost_alloc/ <<\n",
        "\n",
        "total time to find 40 winners:   0.1 minutes\n"
       ]
      }
     ],
     "prompt_number": 14
    },
    {
     "cell_type": "code",
     "collapsed": false,
     "input": [
      "cdist()"
     ],
     "language": "python",
     "metadata": {},
     "outputs": [
      {
       "ename": "NameError",
       "evalue": "name 'cdist' is not defined",
       "output_type": "pyerr",
       "traceback": [
        "\u001b[1;31m---------------------------------------------------------------------------\u001b[0m\n\u001b[1;31mNameError\u001b[0m                                 Traceback (most recent call last)",
        "\u001b[1;32m<ipython-input-11-97ab359bbd68>\u001b[0m in \u001b[0;36m<module>\u001b[1;34m()\u001b[0m\n\u001b[1;32m----> 1\u001b[1;33m \u001b[0mcdist\u001b[0m\u001b[1;33m(\u001b[0m\u001b[1;33m)\u001b[0m\u001b[1;33m\u001b[0m\u001b[0m\n\u001b[0m",
        "\u001b[1;31mNameError\u001b[0m: name 'cdist' is not defined"
       ]
      }
     ],
     "prompt_number": 11
    },
    {
     "cell_type": "heading",
     "level": 3,
     "metadata": {},
     "source": [
      "generate cost distance maps"
     ]
    },
    {
     "cell_type": "code",
     "collapsed": false,
     "input": [],
     "language": "python",
     "metadata": {},
     "outputs": [],
     "prompt_number": 41
    },
    {
     "cell_type": "code",
     "collapsed": false,
     "input": [
      "t = 0.33323342\n",
      "print round(t,2)"
     ],
     "language": "python",
     "metadata": {},
     "outputs": [
      {
       "output_type": "stream",
       "stream": "stdout",
       "text": [
        "0.33\n"
       ]
      }
     ],
     "prompt_number": 55
    },
    {
     "cell_type": "code",
     "collapsed": false,
     "input": [],
     "language": "python",
     "metadata": {},
     "outputs": []
    }
   ],
   "metadata": {}
  }
 ]
}