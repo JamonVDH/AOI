{
 "metadata": {
  "name": "",
  "signature": "sha256:c6be0e38049b115ccd055bbef921ea37ce55f857d3643746814626df5b315d3f"
 },
 "nbformat": 3,
 "nbformat_minor": 0,
 "worksheets": [
  {
   "cells": [
    {
     "cell_type": "raw",
     "metadata": {},
     "source": [
      "TO-DO\n",
      "- check for pt and tif srs; project pt to tif srs\n",
      "- automatically download ASTER data for DEM processing\n",
      "- \n"
     ]
    },
    {
     "cell_type": "code",
     "collapsed": false,
     "input": [
      "# https://pcjericks.github.io/py-gdalogr-cookbook/raster_layers.html#create-least-cost-path\n",
      "\n",
      "import os, osgeo, Image, time\n",
      "from osgeo.gdalnumeric import *\n",
      "from osgeo.gdalconst import *\n",
      "from osgeo import gdal, osr, ogr\n",
      "from skimage.graph import route_through_array, MCP, MCP_Geometric\n",
      "import numpy as np\n"
     ],
     "language": "python",
     "metadata": {},
     "outputs": [],
     "prompt_number": 62
    },
    {
     "cell_type": "code",
     "collapsed": false,
     "input": [
      "#data_dir = '/Users/brianrobinson/Documents/GISprojects/AOIs/sampledata/'\n",
      "root_dir = 'C:/Git-projects/AOI/'\n",
      "data_dir = root_dir+'sample_data/'\n",
      "cost_alloc_dir = data_dir+'out-cost_alloc/'\n",
      "paths_dir = data_dir+'out-paths/'\n",
      "voronoi_dir = data_dir+'out-voronoi/'\n",
      "overlays_dir = data_dir+'out-polygon_overlays/'\n",
      "\n",
      "cost_surface_full = data_dir+'dem_filled_Clip2.tif'\n",
      "#setmnt_shp = data_dir+'settlements_poly.shp'\n",
      "sf = data_dir+'settlement_pnts_clip_UTM.shp'\n",
      "start_coord = (389674, 4566116) # N,E\n",
      "stop_coord =  (396683, 4561835) \n",
      "\n",
      "driverTiff = gdal.GetDriverByName('GTiff')\n",
      "driverShp = ogr.GetDriverByName('ESRI Shapefile')"
     ],
     "language": "python",
     "metadata": {},
     "outputs": [],
     "prompt_number": 63
    },
    {
     "cell_type": "heading",
     "level": 3,
     "metadata": {},
     "source": [
      "functions"
     ]
    },
    {
     "cell_type": "code",
     "collapsed": false,
     "input": [
      "def normalizeCostSurface(costSurface):\n",
      "    print 'input cost surface: '+costSurface\n",
      "    costRaster = gdal.Open(costSurface)\n",
      "    geotransform = costRaster.GetGeoTransform()\n",
      "    originX = geotransform[0]\n",
      "    originY = geotransform[3]\n",
      "    pixelWidth = geotransform[1]\n",
      "    pixelHeight = geotransform[5]\n",
      "    band = costRaster.GetRasterBand(1)\n",
      "    dataIn = band.ReadAsArray()\n",
      "    dataIn = dataIn.astype(float32) # need to check this operation for rasters w NaN values\n",
      "    print '\\nnormalizing cost surface...'\n",
      "    rastMin,rastMax = amin(dataIn),amax(dataIn)\n",
      "    print '     minimum cost: '+str(rastMin)+', ' +'maximum cost: '+str(rastMax)\n",
      "    dataNormArray = (dataIn-rastMin)/(rastMax-rastMin)\n",
      "\n",
      "    costSurfaceNormStr = costSurface.replace('.tif','_norm.tif')\n",
      "    dsNormOut = driverTiff.Create(costSurfaceNormStr,costRaster.RasterXSize,costRaster.RasterYSize,1,gdal.GDT_Float32)\n",
      "    dsNormOut.SetGeoTransform((originX,pixelWidth,0,originY,0,pixelHeight))\n",
      "    bandNormOut = dsNormOut.GetRasterBand(1)\n",
      "    bandNormOut.WriteArray(dataNormArray)\n",
      "    outRasterSRS = osr.SpatialReference()\n",
      "    outRasterSRS.ImportFromWkt(costRaster.GetProjectionRef())  \n",
      "    dsNormOut.SetProjection(outRasterSRS.ExportToWkt())\n",
      "    bandNormOut.FlushCache()\n",
      "    return costSurfaceNormStr, dsNormOut, dataNormArray\n",
      "    \n",
      "def raster2array(rasterfn):\n",
      "    raster = gdal.Open(rasterfn)\n",
      "    band = raster.GetRasterBand(1)\n",
      "    array = band.ReadAsArray()\n",
      "    return array\n",
      "\n",
      "def coord2pixelOffset(rasterfn,x,y):\n",
      "    raster = gdal.Open(rasterfn)\n",
      "    geotransform = raster.GetGeoTransform()\n",
      "    originX = geotransform[0]\n",
      "    originY = geotransform[3]\n",
      "    pixelWidth = geotransform[1]\n",
      "    pixelHeight = geotransform[5]\n",
      "    xOffset = int((x - originX)/pixelWidth)\n",
      "    yOffset = int((y - originY)/pixelHeight)\n",
      "    return xOffset,yOffset\n",
      "\n",
      "def createPath(CostSurfacefn,costSurfaceArray,startCoord,stopCoord):\n",
      "    # coordinates to array index\n",
      "    startCoordX = startCoord[0]\n",
      "    startCoordY = startCoord[1]\n",
      "    startIndexX,startIndexY = coord2pixelOffset(CostSurfacefn,startCoordX,startCoordY)\n",
      "\n",
      "    stopCoordX = stopCoord[0]\n",
      "    stopCoordY = stopCoord[1]\n",
      "    stopIndexX,stopIndexY = coord2pixelOffset(CostSurfacefn,stopCoordX,stopCoordY)\n",
      "\n",
      "    # http://scikit-image.org/docs/dev/api/skimage.graph.html#route-through-array\n",
      "    # geometric=True option in route_through_array call means that distance-weighted cumulative cost\n",
      "    # is calculated\n",
      "    indices, cost = route_through_array(costSurfaceArray, (startIndexY,startIndexX), (stopIndexY,stopIndexX),geometric=True,fully_connected=True)\n",
      "    indices = np.array(indices).T\n",
      "    path = np.zeros_like(costSurfaceArray)\n",
      "    path[indices[0], indices[1]] = 256\n",
      "    return path, cost\n",
      "\n",
      "def array2raster(newRasterfn,rasterfn,array,dataType): #rasterfn is reference raster dir path\n",
      "    raster = gdal.Open(rasterfn)\n",
      "    geotransform = raster.GetGeoTransform()\n",
      "    originX = geotransform[0]\n",
      "    originY = geotransform[3]\n",
      "    pixelWidth = geotransform[1]\n",
      "    pixelHeight = geotransform[5]\n",
      "    cols = array.shape[1]\n",
      "    rows = array.shape[0]\n",
      "    \n",
      "    # data types: http://www.gdal.org/gdal_8h.html#a22e22ce0a55036a96f652765793fb7a4\n",
      "    if dataType == 'float32': outRaster = driverTiff.Create(newRasterfn, raster.RasterXSize,raster.RasterYSize, 1, gdal.GDT_Float32)\n",
      "    elif dataType == 'int16': outRaster = driverTiff.Create(newRasterfn, raster.RasterXSize,raster.RasterYSize, 1, gdal.GDT_UInt16)\n",
      "    elif dataType == 'byte': outRaster = driverTiff.Create(newRasterfn, raster.RasterXSize,raster.RasterYSize, 1, gdal.GDT_Byte)    \n",
      "    \n",
      "    else: return 'unknown data type'\n",
      "    outRaster.SetGeoTransform((originX, pixelWidth, 0, originY, 0, pixelHeight))\n",
      "    outband = outRaster.GetRasterBand(1)\n",
      "    outband.WriteArray(array)\n",
      "    \n",
      "    outRasterSRS = osr.SpatialReference()\n",
      "    outRasterSRS.ImportFromWkt(raster.GetProjectionRef())\n",
      "    outRaster.SetProjection(outRasterSRS.ExportToWkt())\n",
      "    outband.FlushCache()\n",
      "    del outRaster\n",
      "    outRaster = None \n",
      "\n",
      "def minCostRoute(costSurfaceNormStr,costSurfaceNormArray,startCoord,sampleNum):   \n",
      "    print '\\ncreating minimum cost route jpgs...'\n",
      "    startCoordX = startCoord[0]\n",
      "    startCoordY = startCoord[1]\n",
      "    startIndexX,startIndexY = coord2pixelOffset(costSurfaceNormStr,startCoordX,startCoordY)\n",
      "    \n",
      "    rows = len(costSurfaceNormArray)\n",
      "    cols = len(costSurfaceNormArray[0])\n",
      "    \n",
      "    i = 0 # row counter\n",
      "    while i < rows:\n",
      "        j = 0 # column counter\n",
      "        while j < cols:\n",
      "            stopIndexX,stopIndexY = j,i\n",
      "            indices, cost = route_through_array(costSurfaceNormArray, (startIndexY,startIndexX), (stopIndexY,stopIndexX),geometric=True,fully_connected=True)\n",
      "            indices = np.array(indices).T\n",
      "            path = np.zeros_like(costSurfaceNormArray)\n",
      "            # path from starting point to all locations in raster\n",
      "            path[indices[0], indices[1]] = 256 #white\n",
      "    \n",
      "            rowStr = str(i)\n",
      "            if i == 0:\n",
      "                rowStr = '00'+rowStr\n",
      "            elif i < 100:\n",
      "                rowStr = '0'+rowStr\n",
      "            \n",
      "            colStr = str(j)\n",
      "            if j == 0:\n",
      "                colStr = '00'+colStr\n",
      "            elif j < 100:\n",
      "                colStr = '0'+colStr\n",
      "                \n",
      "            #costPathStr = costSurfaceNormStr.replace('.tif',rowStr+'_'+colStr+'.tif') # row,col indexed\n",
      "            costPathStr = paths_dir+rowStr+'_'+colStr+'.tif'\n",
      "            array2raster(costPathStr,costSurfaceNormStr,path,'byte') # converts path array to raster\n",
      "            \n",
      "            # convert to png for processing into animated gif using...\n",
      "            # - http://spectraldifferences.wordpress.com/2014/04/21/create-an-animated-gif-from-a-series-of-images/\n",
      "            # - http://www.imagemagick.org/\n",
      "            Image.open(costPathStr).save(costPathStr.replace('.tif','.png'),'PNG')\n",
      "            os.remove(costPathStr)\n",
      "            j+=sampleNum # only reference every nth pixel\n",
      "        i+=sampleNum\n",
      "\n",
      "    # spawn cmd and run command\n",
      "    # convert -delay 100 *.png path_animation.gif\n",
      "\n",
      "def costSurfaceDist(costSurfaceNormStr,costSurfaceNormTif,costSurfaceNormArray):\n",
      "    print '\\ncreating allocated cost surfaces...'\n",
      "    #sf = r\"/Users/brianrobinson/AOI/sampledata/settlement_pnts_Clip2.shp\"\n",
      "    #costDist_dir = \"/Users/brianrobinson/AOI/sampledata/\"\n",
      "       \n",
      "    # Load shapefile\n",
      "    dataSource = driverShp.Open(sf, 0) # 0 means read-only. 1 means writeable.\n",
      "    \n",
      "    #check that the cost surface and the feature (settlement) layer have the same projection\n",
      "    layer = dataSource.GetLayer()\n",
      "    srs = layer.GetSpatialRef()\n",
      "    CSraster = gdal.Open(cost_surface_full)\n",
      "    CSsrs = osr.SpatialReference()\n",
      "    CSsrs.ImportFromWkt(CSraster.GetProjectionRef())  \n",
      "    if srs != CSsrs:\n",
      "        print \"     *** pt and raster projections may differ ***\"\n",
      "\n",
      "    t0 = time.time()\n",
      "    # For each feature in the layer use a representative point to calculate a cost distance raster\n",
      "    j = 0\n",
      "    for feature in layer:\n",
      "        t1 = time.time()\n",
      "        # Finding the shapefile type\n",
      "        geom = feature.GetGeometryRef()\n",
      "        shapeType = geom.ExportToWkt().split(' ')[0]\n",
      "    \n",
      "        # If a pointfile, use positions as starting points \n",
      "        if shapeType == \"POINT\": \n",
      "            start_coord = geom.GetPoint()[0:2]\n",
      "            #print start_coord\n",
      "            \n",
      "            # Generate costDist array for this settlement\n",
      "            #    Ideally, we'd only calc the CostDist raster for moving window around each village so we don't \n",
      "            #    do it over the whole landscape. (by finding the size of the max distance from any settlement \n",
      "            #    to either another settlement OR an edge).\n",
      "            #    This could still be indexed by the tiff position, and replaced there when adding to AllCostDists.\n",
      "            #    Right now we do the calculation this over the extent of the landscape.\n",
      "            startIndexX,startIndexY = coord2pixelOffset(costSurfaceNormStr,start_coord[0],start_coord[1]) # returns raster coords\n",
      "            bandMCP = MCP_Geometric(costSurfaceNormArray)\n",
      "            CostDistArray = bandMCP.find_costs([(startIndexY,startIndexX)])[0] # input is list of tuples of starting coords\n",
      "            \n",
      "            # Add the CostDistArray for this settlement to the array stack for all settlements\n",
      "            #    help from here: http://www.python-course.eu/numpy.php\n",
      "            if j == 0: # first array\n",
      "                AllCostDists = CostDistArray.reshape((1,CostDistArray.shape[0],CostDistArray.shape[1]))\n",
      "                #print '        array shape:'+str(AllCostDists.shape)\n",
      "            else: # stack arrays\n",
      "                #print 'stacking arrays...'\n",
      "                CostDist2add = CostDistArray.reshape((1,CostDistArray.shape[0],CostDistArray.shape[1]))\n",
      "                AllCostDists = np.concatenate((AllCostDists,CostDist2add))\n",
      "                #print 'updated array shape:'+str(AllCostDists.shape)\n",
      "            \n",
      "        # If a polygon file, get centroids and areas as potential weights\n",
      "        elif shapeType == \"POLYGON\": #| shapeType == \"MULTIPOLYGON\":\n",
      "            print '     Polygon shapefiles not yet supported, coming soon!'\n",
      "            break\n",
      "            # Create an array with centroids\n",
      "            # for feature in layer:\n",
      "            print geom.GetCoordinateDimension()\n",
      "            FeatCent = geom.Centroid()\n",
      "            FeatArea = geom.GetArea()\n",
      "            print '     '+str(geom.ExportToWkt())\n",
      "            print '     centroid: '+str(FeatCent)+', '+' area: '+str(FeatArea)\n",
      "    \n",
      "        else: print \"     the entered feature layer doesn't look like a shapefile. Quitting.\"\n",
      "\n",
      "        j+=1\n",
      "        if j>=50:\n",
      "            print \"     *** Done for now, %s iterations is enough ***\" % (j)\n",
      "            break\n",
      "        else: \n",
      "            t2 = round(time.time() - t1,2)\n",
      "            print \"     Settlement %s, %s secs\" % (j, t2)\n",
      "      \n",
      "    # Find the 0-axis index of minimum value for each position in the landscape\n",
      "    #AllCostDists.shape\n",
      "    winner = np.argmin(AllCostDists,axis=0)\n",
      "    #winner.shape\n",
      "    \n",
      "    array2raster(cost_alloc_dir+'winners.tif',cost_surface_full,winner,'int16')\n",
      "    t8 = round(time.time() - t0,2)\n",
      "    print '     >> '+str(t8)+' seconds to find the winners <<'\n",
      "    \n",
      "def main(costSurfacefn,startCoord,stopCoord):    \n",
      "    # normalize cost surface raster\n",
      "    costSurfaceNormStr,costSurfaceNormTif,costSurfaceNormArray = normalizeCostSurface(costSurfacefn) \n",
      "    costSurfaceArray = raster2array(costSurfaceNormStr) # creates array from normalized cost surface raster\n",
      "    \n",
      "    # generate example min cost paths from starting coordinate\n",
      "    # pathArray, cost = createPath(costSurfaceNormStr,costSurfaceNormArray,startCoord,stopCoord) # creates path array\n",
      "    # print '     cum cost from pt XXX to pt XXX: ' + str(cost)\n",
      "    # costPathStr = costSurfaceNormStr.replace('_norm.tif','_norm_costPath.tif')\n",
      "    # array2raster(costPathStr,costSurfacefn,pathArray,'byte') # converts path array to raster\n",
      "    ''' \n",
      "    minCostRoute(costSurfaceNormStr,costSurfaceNormArray,startCoord, 40)\n",
      "\n",
      "    # generate example min cost tif from starting coordinate\n",
      "    startIndexX,startIndexY = coord2pixelOffset(costSurfaceNormStr,startCoord[0],startCoord[1]) # returns raster coords\n",
      "    bandMCP = MCP_Geometric(costSurfaceNormArray)\n",
      "    allCostDistArray,traceBackArray = bandMCP.find_costs([(startIndexY,startIndexX)]) # input is list of tuples of starting coords\n",
      "    costDistStr = costSurfaceNormStr.replace('_norm.tif','_norm_costDist.tif')    \n",
      "    array2raster(costDistStr,costSurfacefn,allCostDistArray,'float32')\n",
      "    '''\n",
      "    costSurfaceDist(costSurfaceNormStr,costSurfaceNormTif,costSurfaceNormArray)"
     ],
     "language": "python",
     "metadata": {},
     "outputs": [],
     "prompt_number": 74
    },
    {
     "cell_type": "heading",
     "level": 3,
     "metadata": {},
     "source": [
      "run main"
     ]
    },
    {
     "cell_type": "code",
     "collapsed": false,
     "input": [
      "if __name__ == \"__main__\":\n",
      "    main(cost_surface_full,start_coord,stop_coord)"
     ],
     "language": "python",
     "metadata": {},
     "outputs": [
      {
       "output_type": "stream",
       "stream": "stdout",
       "text": [
        "input cost surface: C:/Git-projects/AOI/sample_data/dem_filled_Clip2.tif\n",
        "\n",
        "normalizing cost surface...\n",
        "     minimum cost: 1070.0, maximum cost: 2130.0\n",
        "\n",
        "creating allocated cost surfaces...\n",
        "     *** pt and raster projections may differ ***"
       ]
      },
      {
       "output_type": "stream",
       "stream": "stdout",
       "text": [
        "\n",
        "     Settlement 1, 0.27 secs"
       ]
      },
      {
       "output_type": "stream",
       "stream": "stdout",
       "text": [
        "\n",
        "     Settlement 2, 0.25 secs"
       ]
      },
      {
       "output_type": "stream",
       "stream": "stdout",
       "text": [
        "\n",
        "     Settlement 3, 0.3 secs"
       ]
      },
      {
       "output_type": "stream",
       "stream": "stdout",
       "text": [
        "\n",
        "     Settlement 4, 0.29 secs"
       ]
      },
      {
       "output_type": "stream",
       "stream": "stdout",
       "text": [
        "\n",
        "     Settlement 5, 0.26 secs"
       ]
      },
      {
       "output_type": "stream",
       "stream": "stdout",
       "text": [
        "\n",
        "     Settlement 6, 0.26 secs"
       ]
      },
      {
       "output_type": "stream",
       "stream": "stdout",
       "text": [
        "\n",
        "     Settlement 7, 0.43 secs"
       ]
      },
      {
       "output_type": "stream",
       "stream": "stdout",
       "text": [
        "\n",
        "     Settlement 8, 0.26 secs"
       ]
      },
      {
       "output_type": "stream",
       "stream": "stdout",
       "text": [
        "\n",
        "     Settlement 9, 0.27 secs"
       ]
      },
      {
       "output_type": "stream",
       "stream": "stdout",
       "text": [
        "\n",
        "     Settlement 10, 0.33 secs"
       ]
      },
      {
       "output_type": "stream",
       "stream": "stdout",
       "text": [
        "\n",
        "     Settlement 11, 0.29 secs"
       ]
      },
      {
       "output_type": "stream",
       "stream": "stdout",
       "text": [
        "\n",
        "     Settlement 12, 0.26 secs"
       ]
      },
      {
       "output_type": "stream",
       "stream": "stdout",
       "text": [
        "\n",
        "     Settlement 13, 0.28 secs"
       ]
      },
      {
       "output_type": "stream",
       "stream": "stdout",
       "text": [
        "\n",
        "     Settlement 14, 0.28 secs"
       ]
      },
      {
       "output_type": "stream",
       "stream": "stdout",
       "text": [
        "\n",
        "     Settlement 15, 0.27 secs"
       ]
      },
      {
       "output_type": "stream",
       "stream": "stdout",
       "text": [
        "\n",
        "     Settlement 16, 0.26 secs"
       ]
      },
      {
       "output_type": "stream",
       "stream": "stdout",
       "text": [
        "\n",
        "     Settlement 17, 0.39 secs"
       ]
      },
      {
       "output_type": "stream",
       "stream": "stdout",
       "text": [
        "\n",
        "     Settlement 18, 0.28 secs"
       ]
      },
      {
       "output_type": "stream",
       "stream": "stdout",
       "text": [
        "\n",
        "     Settlement 19, 0.26 secs"
       ]
      },
      {
       "output_type": "stream",
       "stream": "stdout",
       "text": [
        "\n",
        "     Settlement 20, 0.3 secs"
       ]
      },
      {
       "output_type": "stream",
       "stream": "stdout",
       "text": [
        "\n",
        "     Settlement 21, 0.34 secs"
       ]
      },
      {
       "output_type": "stream",
       "stream": "stdout",
       "text": [
        "\n",
        "     Settlement 22, 0.31 secs"
       ]
      },
      {
       "output_type": "stream",
       "stream": "stdout",
       "text": [
        "\n",
        "     Settlement 23, 0.3 secs"
       ]
      },
      {
       "output_type": "stream",
       "stream": "stdout",
       "text": [
        "\n",
        "     Settlement 24, 0.3 secs"
       ]
      },
      {
       "output_type": "stream",
       "stream": "stdout",
       "text": [
        "\n",
        "     Settlement 25, 0.27 secs"
       ]
      },
      {
       "output_type": "stream",
       "stream": "stdout",
       "text": [
        "\n",
        "     Settlement 26, 0.28 secs"
       ]
      },
      {
       "output_type": "stream",
       "stream": "stdout",
       "text": [
        "\n",
        "     Settlement 27, 0.59 secs"
       ]
      },
      {
       "output_type": "stream",
       "stream": "stdout",
       "text": [
        "\n",
        "     Settlement 28, 0.43 secs"
       ]
      },
      {
       "output_type": "stream",
       "stream": "stdout",
       "text": [
        "\n",
        "     Settlement 29, 0.5 secs"
       ]
      },
      {
       "output_type": "stream",
       "stream": "stdout",
       "text": [
        "\n",
        "     Settlement 30, 0.33 secs"
       ]
      },
      {
       "output_type": "stream",
       "stream": "stdout",
       "text": [
        "\n",
        "     Settlement 31, 0.29 secs"
       ]
      },
      {
       "output_type": "stream",
       "stream": "stdout",
       "text": [
        "\n",
        "     Settlement 32, 0.41 secs"
       ]
      },
      {
       "output_type": "stream",
       "stream": "stdout",
       "text": [
        "\n",
        "     Settlement 33, 0.28 secs"
       ]
      },
      {
       "output_type": "stream",
       "stream": "stdout",
       "text": [
        "\n",
        "     Settlement 34, 0.31 secs"
       ]
      },
      {
       "output_type": "stream",
       "stream": "stdout",
       "text": [
        "\n",
        "     Settlement 35, 0.43 secs"
       ]
      },
      {
       "output_type": "stream",
       "stream": "stdout",
       "text": [
        "\n",
        "     Settlement 36, 0.39 secs"
       ]
      },
      {
       "output_type": "stream",
       "stream": "stdout",
       "text": [
        "\n",
        "     Settlement 37, 0.42 secs"
       ]
      },
      {
       "output_type": "stream",
       "stream": "stdout",
       "text": [
        "\n",
        "     Settlement 38, 0.29 secs"
       ]
      },
      {
       "output_type": "stream",
       "stream": "stdout",
       "text": [
        "\n",
        "     Settlement 39, 0.28 secs"
       ]
      },
      {
       "output_type": "stream",
       "stream": "stdout",
       "text": [
        "\n",
        "     Settlement 40, 0.33 secs"
       ]
      },
      {
       "output_type": "stream",
       "stream": "stdout",
       "text": [
        "\n",
        "     >> 13.11 seconds to find the winners <<"
       ]
      },
      {
       "output_type": "stream",
       "stream": "stdout",
       "text": [
        "\n"
       ]
      }
     ],
     "prompt_number": 75
    },
    {
     "cell_type": "code",
     "collapsed": false,
     "input": [
      "print cost_surface_full\n"
     ],
     "language": "python",
     "metadata": {},
     "outputs": [
      {
       "output_type": "stream",
       "stream": "stdout",
       "text": [
        "C:/Git-projects/AOI/sample_data/dem_filled_Clip2.tif\n"
       ]
      }
     ],
     "prompt_number": 37
    },
    {
     "cell_type": "heading",
     "level": 3,
     "metadata": {},
     "source": [
      "generate cost distance maps"
     ]
    },
    {
     "cell_type": "code",
     "collapsed": false,
     "input": [],
     "language": "python",
     "metadata": {},
     "outputs": [],
     "prompt_number": 41
    },
    {
     "cell_type": "code",
     "collapsed": false,
     "input": [
      "t = 0.33323342\n",
      "print round(t,2)"
     ],
     "language": "python",
     "metadata": {},
     "outputs": [
      {
       "output_type": "stream",
       "stream": "stdout",
       "text": [
        "0.33\n"
       ]
      }
     ],
     "prompt_number": 55
    },
    {
     "cell_type": "code",
     "collapsed": false,
     "input": [],
     "language": "python",
     "metadata": {},
     "outputs": []
    }
   ],
   "metadata": {}
  }
 ]
}