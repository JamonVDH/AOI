{
 "metadata": {
  "name": "AOI_voronoi_modeling"
 },
 "nbformat": 3,
 "nbformat_minor": 0,
 "worksheets": [
  {
   "cells": [
    {
     "cell_type": "code",
     "collapsed": false,
     "input": [
      "import os, osgeo, math, numpy as np #shapely, shapefile\n",
      "from osgeo import gdal, ogr, osr\n",
      "from scipy.spatial import Delaunay\n",
      "import matplotlib.pyplot as plt\n",
      "from matplotlib.collections import LineCollection, PatchCollection\n",
      "%matplotlib inline\n",
      "%pylab inline\n",
      "\n",
      "root = 'C:/Git-projects/AOI/sample_data/'\n",
      "input_shp_full = root+'settlement_pnts_clip.shp' # pt shp\n",
      "fieldUID = 'ORIG_FID'\n",
      "out_dir = root+'out-voronoi/'#I:/projects/FATA_LULC/test/'\n",
      "\n",
      "proj = 4326 #http://spatialreference.org/ref/epsg/wgs-84/"
     ],
     "language": "python",
     "metadata": {},
     "outputs": [
      {
       "ename": "ImportError",
       "evalue": "No module named osgeo",
       "output_type": "pyerr",
       "traceback": [
        "\u001b[1;31m---------------------------------------------------------------------------\u001b[0m\n\u001b[1;31mImportError\u001b[0m                               Traceback (most recent call last)",
        "\u001b[1;32m<ipython-input-1-dfbd3a8e0cc6>\u001b[0m in \u001b[0;36m<module>\u001b[1;34m()\u001b[0m\n\u001b[1;32m----> 1\u001b[1;33m \u001b[1;32mimport\u001b[0m \u001b[0mos\u001b[0m\u001b[1;33m,\u001b[0m \u001b[0mosgeo\u001b[0m\u001b[1;33m,\u001b[0m \u001b[0mmath\u001b[0m\u001b[1;33m,\u001b[0m \u001b[0mnumpy\u001b[0m \u001b[1;32mas\u001b[0m \u001b[0mnp\u001b[0m \u001b[1;31m#shapely, shapefile\u001b[0m\u001b[1;33m\u001b[0m\u001b[0m\n\u001b[0m\u001b[0;32m      2\u001b[0m \u001b[1;32mfrom\u001b[0m \u001b[0mosgeo\u001b[0m \u001b[1;32mimport\u001b[0m \u001b[0mgdal\u001b[0m\u001b[1;33m,\u001b[0m \u001b[0mogr\u001b[0m\u001b[1;33m,\u001b[0m \u001b[0mosr\u001b[0m\u001b[1;33m\u001b[0m\u001b[0m\n\u001b[0;32m      3\u001b[0m \u001b[1;32mfrom\u001b[0m \u001b[0mscipy\u001b[0m\u001b[1;33m.\u001b[0m\u001b[0mspatial\u001b[0m \u001b[1;32mimport\u001b[0m \u001b[0mDelaunay\u001b[0m\u001b[1;33m\u001b[0m\u001b[0m\n\u001b[0;32m      4\u001b[0m \u001b[1;32mimport\u001b[0m \u001b[0mmatplotlib\u001b[0m\u001b[1;33m.\u001b[0m\u001b[0mpyplot\u001b[0m \u001b[1;32mas\u001b[0m \u001b[0mplt\u001b[0m\u001b[1;33m\u001b[0m\u001b[0m\n\u001b[0;32m      5\u001b[0m \u001b[1;32mfrom\u001b[0m \u001b[0mmatplotlib\u001b[0m\u001b[1;33m.\u001b[0m\u001b[0mcollections\u001b[0m \u001b[1;32mimport\u001b[0m \u001b[0mLineCollection\u001b[0m\u001b[1;33m,\u001b[0m \u001b[0mPatchCollection\u001b[0m\u001b[1;33m\u001b[0m\u001b[0m\n",
        "\u001b[1;31mImportError\u001b[0m: No module named osgeo"
       ]
      }
     ],
     "prompt_number": 1
    },
    {
     "cell_type": "heading",
     "level": 3,
     "metadata": {},
     "source": [
      "load point data from shp"
     ]
    },
    {
     "cell_type": "code",
     "collapsed": false,
     "input": [
      "drv = ogr.GetDriverByName('ESRI Shapefile')\n",
      "ptShp = drv.Open(input_shp_full)\n",
      "ptLayer = ptShp.GetLayer(0)\n",
      "ptSRS = ptLayer.GetSpatialRef()\n",
      "x_min, x_max, y_min, y_max = ptLayer.GetExtent()\n",
      "\n",
      "ptList = []\n",
      "ptDict = {}\n",
      "for pt in ptLayer:\n",
      "    ID_index = pt.GetFieldIndex(fieldUID)\n",
      "    ptID = pt.GetField(ID_index)\n",
      "    ptGeom = pt.GetGeometryRef()\n",
      "    ptX = float(str(ptGeom).split(' ')[1].strip('('))\n",
      "    ptY = float(str(ptGeom).split(' ')[2].strip(')'))\n",
      "    ptDict[ptID] = [ptX,ptY]\n",
      "    ptList.append([ptX,ptY]) \n",
      "    \n",
      "numPtList = np.array(ptList) # used for input to Delaunay   "
     ],
     "language": "python",
     "metadata": {},
     "outputs": [],
     "prompt_number": 46
    },
    {
     "cell_type": "code",
     "collapsed": false,
     "input": [
      "print buffShp\n",
      "print \"C:\\Git-projects\\AOI\\sample_data\\out-voronoi\""
     ],
     "language": "python",
     "metadata": {},
     "outputs": [
      {
       "output_type": "stream",
       "stream": "stdout",
       "text": [
        "C:/Git-projects/AOI/sample_data/out-voronoi/settlement_pnts_buffer.shp\n",
        "C:\\Git-projects\\AOI\\sample_data\\out-voronoi\n"
       ]
      }
     ],
     "prompt_number": 47
    },
    {
     "cell_type": "heading",
     "level": 3,
     "metadata": {},
     "source": [
      "radial buffer"
     ]
    },
    {
     "cell_type": "code",
     "collapsed": false,
     "input": [
      "drv = ogr.GetDriverByName('Esri Shapefile')\n",
      "buffShp = out_dir+input_shp_full.split('/')[-1].replace('.shp','_buffer.shp')\n",
      "if os.path.exists(buffShp): os.remove(buffShp)\n",
      "ds = drv.CreateDataSource(buffShp)\n",
      "layer = ds.CreateLayer('', None, ogr.wkbPolygon)\n",
      "layer.CreateField(ogr.FieldDefn('Id', ogr.OFTInteger))\n",
      "defn = layer.GetLayerDefn()\n",
      "\n",
      "ptCounter = 0\n",
      "for each in ptDict:\n",
      "    ptLon = ptDict[each][0]\n",
      "    ptLat = ptDict[each][1]\n",
      "    pt_wkt = \"POINT (\"+str(ptLon)+' '+str(ptLat)+')'\n",
      "    pt = ogr.CreateGeometryFromWkt(pt_wkt)\n",
      "    \n",
      "    bufferDistance = 0.01 # degrees\n",
      "    geom = pt.Buffer(bufferDistance)\n",
      "\n",
      "    feat = ogr.Feature(defn)\n",
      "    feat.SetField('Id', each)\n",
      "    feat.SetGeometry(geom)  \n",
      "    layer.CreateFeature(feat)\n",
      "    feat = geom = None\n",
      "    ptCounter+=1\n",
      "\n",
      "print str(ptCounter)+' points buffered'\n",
      "layer = ds = None"
     ],
     "language": "python",
     "metadata": {},
     "outputs": [
      {
       "output_type": "stream",
       "stream": "stdout",
       "text": [
        "40 points buffered\n"
       ]
      }
     ],
     "prompt_number": 52
    },
    {
     "cell_type": "heading",
     "level": 3,
     "metadata": {},
     "source": [
      "delaunay"
     ]
    },
    {
     "cell_type": "heading",
     "level": 4,
     "metadata": {},
     "source": [
      "poly"
     ]
    },
    {
     "cell_type": "code",
     "collapsed": false,
     "input": [
      "# http://en.wikipedia.org/wiki/Circumscribed_circle#Circumscribed_circles_of_triangles\n",
      "# https://stackoverflow.com/questions/12374781/how-to-find-all-neighbors-of-a-given-point-in-a-delaunay-triangulation-using-sci\n",
      "# https://stackoverflow.com/questions/10650645/python-calculate-voronoi-tesselation-from-scipys-delaunay-triangulation-in-3d\n",
      "\n",
      "def dot2(u, v):\n",
      "    return u[0]*v[0] + u[1]*v[1]\n",
      "\n",
      "def cross2(u, v, w):\n",
      "    \"\"\"u x (v x w)\"\"\"\n",
      "    return dot2(u, w)*v - dot2(u, v)*w\n",
      "\n",
      "def ncross2(u, v):\n",
      "    \"\"\"|| u x v ||^2\"\"\"\n",
      "    return sq2(u)*sq2(v) - dot2(u, v)**2\n",
      "\n",
      "def sq2(u):\n",
      "    return dot2(u, u)\n",
      "\n",
      "tri = Delaunay(numPtList)\n",
      "# plot Delaunay: http://docs.scipy.org/doc/scipy/reference/spatial.html#plotting-helpers\n",
      "\n",
      "p = tri.points[tri.vertices]# returns point locations of each triangle vertex\n",
      "                            # tri.vertices: each row represents one simplex (triangle) in the triangulation,\n",
      "                            # with values referencing indices of the input point list\n",
      "print 'finding facets...'\n",
      "# find facets containing each input point\n",
      "triDict={}\n",
      "i = 0\n",
      "while i < len(numPtList):\n",
      "    pt = str(numPtList[i].tolist())\n",
      "    j = 0\n",
      "    while j < len(p):\n",
      "        k = 0\n",
      "        while k < len(p[j]):\n",
      "            if pt == str(p[j][k].tolist()):\n",
      "                if triDict.has_key(pt):\n",
      "                    triDict[pt]+=[p[j].tolist()] # format: vorDict['pt coordinates']=list of lists of triangle vertices\n",
      "                else:\n",
      "                    triDict[pt]=[p[j].tolist()]\n",
      "            k+=1\n",
      "        j+=1\n",
      "    i+=1\n",
      "\n",
      "print 'finding circumcenters...'\n",
      "# find circumcenters for triangles associated with each pt; these circumcenters are Voronoi vertices\n",
      "vorDict={}\n",
      "for each in triDict:\n",
      "    npPt = np.array(triDict[each])\n",
      "    A = npPt[:,0,:].T # 1st vertex of triangle\n",
      "    B = npPt[:,1,:].T # 2nd vertex\n",
      "    C = npPt[:,2,:].T # 3rd vertex\n",
      "    a = A - C\n",
      "    b = B - C\n",
      "    cc = cross2(sq2(a) * b - sq2(b) * a, a, b) / (2*ncross2(a, b)) + C # coords of circumcenters; coords of Voronoi edges\n",
      "    vorDict[each]=cc.T\n",
      "\n",
      "print 'finding Voronoi nodes...'\n",
      "#take ID from ptDict and link it to Voronoi vertices from vorDict\n",
      "vorIdDict={}\n",
      "for a in ptDict:\n",
      "    for b in vorDict:\n",
      "        if str(ptDict[a])==b:\n",
      "            #print ptDict[a],b\n",
      "            vorIdDict[a]=vorDict[b]\n",
      "            \n",
      "print 'converting nodes to shp...'\n",
      "# convert to shp\n",
      "nodesShp = out_dir+input_shp_full.split('/')[-1].replace('.shp','_nodes.shp')\n",
      "if os.path.exists(nodesShp): os.remove(nodesShp)\n",
      "drv = ogr.GetDriverByName('ESRI Shapefile')\n",
      "if os.path.exists(nodesShp): drv.DeleteDataSource(nodesShp)\n",
      "outNodeShp = drv.CreateDataSource(nodesShp)\n",
      "nodeLayer = outNodeShp.CreateLayer('', None,ogr.wkbPoint)\n",
      "nodeLayer.CreateField(ogr.FieldDefn('Id', ogr.OFTInteger))\n",
      "nodeDefn = nodeLayer.GetLayerDefn()\n",
      "\n",
      "ptCounter = 0\n",
      "for each in vorIdDict:\n",
      "    i = 0\n",
      "    while i < len(vorIdDict[each]):\n",
      "        ptLon = vorIdDict[each][i].tolist()[0]\n",
      "        ptLat = vorIdDict[each][i].tolist()[1]\n",
      "        pt_wkt = \"POINT (\"+str(ptLon)+' '+str(ptLat)+')'\n",
      "        geom = ogr.CreateGeometryFromWkt(pt_wkt)\n",
      "        feat = ogr.Feature(nodeDefn)\n",
      "        feat.SetField('Id', each)\n",
      "        feat.SetGeometry(geom)  \n",
      "        nodeLayer.CreateFeature(feat)\n",
      "        feat = geom = None\n",
      "        ptCounter+=1\n",
      "        i+=1\n",
      "\n",
      "print 'exported '+str(ptCounter)+' Voronoi nodes'\n",
      "nodeLayer = outNodeShp = None"
     ],
     "language": "python",
     "metadata": {},
     "outputs": [
      {
       "output_type": "stream",
       "stream": "stdout",
       "text": [
        "finding facets...\n",
        "finding circumcenters..."
       ]
      },
      {
       "output_type": "stream",
       "stream": "stdout",
       "text": [
        "\n",
        "finding Voronoi nodes...\n",
        "converting nodes to shp...\n",
        "exported 201 Voronoi nodes\n"
       ]
      }
     ],
     "prompt_number": 57
    },
    {
     "cell_type": "heading",
     "level": 4,
     "metadata": {},
     "source": [
      "poly shp"
     ]
    },
    {
     "cell_type": "code",
     "collapsed": false,
     "input": [
      "# https://stackoverflow.com/questions/1709283/how-can-i-sort-a-coordinate-list-for-a-rectangle-counterclockwise\n",
      "# https://gamedev.stackexchange.com/questions/13229/sorting-array-of-points-in-clockwise-order\n",
      "# https://en.wikipedia.org/wiki/Graham_scan\n",
      "def sortCCW(node):\n",
      "    return math.atan2(node[1] - meanLat, node[0] - meanLon)\n",
      "\n",
      "vorShp = out_dir+input_shp_full.split('/')[-1].replace('.shp','_voronoi.shp')\n",
      "if os.path.exists(vorShp): os.remove(vorShp)\n",
      "\n",
      "#layer,layerDefn = setUpShp(shp,'polygon')\n",
      "drv = ogr.GetDriverByName('ESRI Shapefile')\n",
      "outShp = drv.CreateDataSource(vorShp)\n",
      "layer = outShp.CreateLayer('', None,ogr.wkbPolygon)\n",
      "layer.CreateField(ogr.FieldDefn('Id', ogr.OFTInteger))\n",
      "layerDefn = layer.GetLayerDefn()\n",
      "\n",
      "for pt in vorIdDict:\n",
      "    meanLon = sum(node[0] for node in vorIdDict[pt])/len(vorIdDict[pt])\n",
      "    meanLat = sum(node[1] for node in vorIdDict[pt])/len(vorIdDict[pt]) \n",
      "    hullList = vorIdDict[pt].tolist()\n",
      "    hullList.sort(key=sortCCW)\n",
      "  \n",
      "    poly = ogr.Geometry(ogr.wkbPolygon)\n",
      "    ring = ogr.Geometry(ogr.wkbLinearRing)\n",
      "    i = 0\n",
      "    for node in hullList:\n",
      "        if i==0:\n",
      "            loopLon = node[0] # grab first node to close ring\n",
      "            loopLat = node[1]\n",
      "        ring.AddPoint(node[0],node[1])\n",
      "        i+=1\n",
      "    ring.AddPoint(loopLon,loopLat)\n",
      "    poly.AddGeometry(ring)\n",
      "    feat = ogr.Feature(layerDefn)\n",
      "    feat.SetField('Id', pt)\n",
      "    feat.SetGeometry(poly)  \n",
      "    layer.CreateFeature(feat)\n",
      "    feat = poly = ring = None\n",
      "layer = outShp = None"
     ],
     "language": "python",
     "metadata": {},
     "outputs": [],
     "prompt_number": 58
    },
    {
     "cell_type": "heading",
     "level": 4,
     "metadata": {},
     "source": [
      "line"
     ]
    },
    {
     "cell_type": "raw",
     "metadata": {},
     "source": [
      "# http://en.wikipedia.org/wiki/Circumscribed_circle#Circumscribed_circles_of_triangles\n",
      "# https://stackoverflow.com/questions/12374781/how-to-find-all-neighbors-of-a-given-point-in-a-delaunay-triangulation-using-sci\n",
      "# https://stackoverflow.com/questions/10650645/python-calculate-voronoi-tesselation-from-scipys-delaunay-triangulation-in-3d\n",
      "\n",
      "tri = Delaunay(numPtList)\n",
      "p = tri.points[tri.vertices]# returns point locations of each triangle vertex\n",
      "                            # tri.vertices: each row represents one simplex (triangle) in the triangulation,\n",
      "                            # with values referencing indices of the input point list\n",
      "\n",
      "# Triangle vertices\n",
      "A = p[:,0,:].T # 1st vertes\n",
      "B = p[:,1,:].T # 2nd vertex\n",
      "C = p[:,2,:].T # 3rd vertex\n",
      "a = A - C\n",
      "b = B - C\n",
      "cc = cross2(sq2(a) * b - sq2(b) * a, a, b) / (2*ncross2(a, b)) + C # coords of circumcenters; coords of Voronoi edges\n",
      "\n",
      "# grab coords of Voronoi edges\n",
      "vc = cc[:,tri.neighbors]\n",
      "vc[:,tri.neighbors == -1] = np.nan # edges at infinity, plotting those would need more work...\n",
      "\n",
      "lines = [] # each element is start/end points of line\n",
      "lines.extend(zip(cc.T, vc[:,:,0].T)) # zip() makes tuples out of input; extend() concatenates the first list with another list\n",
      "lines.extend(zip(cc.T, vc[:,:,1].T))\n",
      "lines.extend(zip(cc.T, vc[:,:,2].T))"
     ]
    },
    {
     "cell_type": "heading",
     "level": 4,
     "metadata": {},
     "source": [
      "line shp"
     ]
    },
    {
     "cell_type": "raw",
     "metadata": {},
     "source": [
      "# https://pypi.python.org/pypi/pyshp#writing-shapefiles\n",
      "# http://www.cimms.ou.edu/~lakshman/spatialprogramming/chapter03_basicgis/ch03_basicgis.pdf\n",
      "\n",
      "lineShp = outDir+\"test_Voronoi_line.shp\"\n",
      "if os.path.exists(lineShp): drv.DeleteDataSource(lineShp)\n",
      "outLineShp = drv.CreateDataSource(lineShp)\n",
      "lineLayer = outLineShp.CreateLayer(\"test_Voronoi_line\", geom_type=ogr.wkbLineString)\n",
      "#lineIDField = ogr.FieldDefn(\"edgeField\", ogr.OFTInteger)\n",
      "#lineLayer.CreateField(lineIDField)\n",
      "\n",
      "# https://gis.stackexchange.com/questions/43311/how-to-create-a-shapefile-consisting-of-2-lines-using-python-ogr\n",
      "# https://pcjericks.github.io/py-gdalogr-cookbook/geometry.html\n",
      "for each in lines:\n",
      "    end1X = each[0][0]\n",
      "    end1Y = each[0][1]\n",
      "    end2X = each[1][0]\n",
      "    end2Y = each[1][1]\n",
      "    edge = ogr.Geometry(ogr.wkbLineString)\n",
      "    edge.AddPoint_2D(end1X,end1Y)\n",
      "    edge.AddPoint_2D(end2X,end2Y)\n",
      "\n",
      "    featureDefn = lineLayer.GetLayerDefn()\n",
      "    feature = ogr.Feature(featureDefn)\n",
      "    feature.SetGeometryDirectly(edge)\n",
      "\n",
      "    #feature.SetField(\"ID\",each)\n",
      "    lineLayer.CreateFeature(feature)\n",
      "\n",
      "ptShp.Destroy()\n",
      "outLineShp.Destroy()\n",
      "\n",
      "# make prj\n",
      "# https://pcjericks.github.io/py-gdalogr-cookbook/projection.html\n",
      "spatialRef = osr.SpatialReference()\n",
      "spatialRef.ImportFromEPSG(proj)\n",
      "spatialRefTIF = spatialRef\n",
      "spatialRef.MorphToESRI()\n",
      "prj = open(lineShp.replace(\"shp\",\"prj\"),'w')\n",
      "prj.write(spatialRef.ExportToWkt())\n",
      "prj.close()\n",
      "\n",
      "newType = shapefile.POLYGON\n",
      "r = shapefile.Reader(lineShp)\n",
      "w = shapefile.Writer(newType)\n",
      "w._shapes.extend(r.shapes())\n",
      "for s in w.shapes():\n",
      "  s.shapeType = newType\n",
      "w.fields = list(r.fields)\n",
      "w.records.extend(r.records())\n",
      "w.save(\"I:/projects/FATA_LULC/test/test_Voronoi_poly.shp\")"
     ]
    },
    {
     "cell_type": "heading",
     "level": 4,
     "metadata": {},
     "source": [
      "plot line"
     ]
    },
    {
     "cell_type": "raw",
     "metadata": {},
     "source": [
      "plt_lines = LineCollection(lines, edgecolor='k')\n",
      "\n",
      "plt.hold(1)\n",
      "plt.plot(numPtList[:,0], numPtList[:,1], '.')\n",
      "#plt.plot(cc[0], cc[1], 'o')\n",
      "plt.gca().add_collection(plt_lines)\n",
      "plt.axis('equal')\n",
      "plt.xlim(x_min,x_max)\n",
      "plt.ylim(y_min,y_max)\n",
      "plt.show()"
     ]
    },
    {
     "cell_type": "code",
     "collapsed": false,
     "input": [],
     "language": "python",
     "metadata": {},
     "outputs": []
    }
   ],
   "metadata": {}
  }
 ]
}